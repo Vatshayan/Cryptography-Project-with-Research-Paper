{
  "nbformat": 4,
  "nbformat_minor": 0,
  "metadata": {
    "colab": {
      "name": "Project_demo_code.ipynb",
      "provenance": []
    },
    "kernelspec": {
      "name": "python3",
      "display_name": "Python 3"
    }
  },
  "cells": [
    {
      "cell_type": "markdown",
      "metadata": {
        "id": "cO-JAqnG9w9M"
      },
      "source": [
        "HIGH SECURE SYSTEM\r\n",
        "\r\n",
        "CRYPTOGRAPHY SYSTEM USING VIGENERE CIPHER AND POLYBIUS CIPHER\r\n",
        "\r\n",
        "By- SHIVAM VATSHAYAN"
      ]
    },
    {
      "cell_type": "code",
      "metadata": {
        "id": "hyatuvym90pQ"
      },
      "source": [
        "# Python code to implement \r\n",
        "# Vigenere Cipher \r\n",
        "\r\n",
        "# This function generates the \r\n",
        "# key in a cyclic manner until \r\n",
        "# it's length isn't equal to \r\n",
        "# the length of original text \r\n",
        "def generateKey(string, key): \r\n",
        "\tkey = list(key) \r\n",
        "\tif len(string) == len(key): \r\n",
        "\t\treturn(key) \r\n",
        "\telse: \r\n",
        "\t\tfor i in range(len(string) -\r\n",
        "\t\t\t\t\tlen(key)): \r\n",
        "\t\t\tkey.append(key[i % len(key)]) \r\n",
        "\treturn(\"\" . join(key)) \r\n",
        "\t"
      ],
      "execution_count": 1,
      "outputs": []
    },
    {
      "cell_type": "markdown",
      "metadata": {
        "id": "qfKcMBy29_ib"
      },
      "source": [
        "Hi there, \r\n",
        "\r\n",
        "wait wait !\r\n",
        "\r\n",
        "This is Just Demo\r\n",
        "\r\n",
        "Full Project is longer as it envolve many process like encrytion and decryption\r\n",
        "\r\n",
        "Mail me now at vatshayan007@gmail.com to get this full project code with project report and PPT now. "
      ]
    },
    {
      "cell_type": "markdown",
      "metadata": {
        "id": "TILx5Nzx-eS-"
      },
      "source": [
        "Mail me now at vatshayan007@gmail.com "
      ]
    },
    {
      "cell_type": "code",
      "metadata": {
        "id": "2zgphUI198G9"
      },
      "source": [
        ""
      ],
      "execution_count": null,
      "outputs": []
    }
  ]
}